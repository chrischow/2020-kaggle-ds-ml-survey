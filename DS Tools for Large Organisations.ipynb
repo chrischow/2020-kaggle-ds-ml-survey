{
 "metadata": {
  "language_info": {
   "codemirror_mode": {
    "name": "ipython",
    "version": 3
   },
   "file_extension": ".py",
   "mimetype": "text/x-python",
   "name": "python",
   "nbconvert_exporter": "python",
   "pygments_lexer": "ipython3",
   "version": 3
  },
  "orig_nbformat": 2
 },
 "nbformat": 4,
 "nbformat_minor": 2,
 "cells": [
  {
   "source": [
    "# Data Science (DS) Tools for Large Organisations\n",
    "This notebook aims to use data from the Kaggle Data Science (DS) and Machine Learning (ML) surveys from 2017 to 2020 to identify ideal tools for large enterprises. The types of tools that we aim to identify are:\n",
    "\n",
    "1. Programming languages\n",
    "2. Integrated development environments (IDEs)\n",
    "3. Data visualisation (Dataviz) libraries\n",
    "4. ML frameworks\n",
    "5. Big data products\n",
    "6. Automated ML tools\n",
    "7. ML management tools\n",
    "8. Code sharing platforms"
   ],
   "cell_type": "markdown",
   "metadata": {}
  },
  {
   "source": [
    "## Approach\n",
    "We look at the responses of two groups of survey participants from 2017 to 2019:\n",
    "\n",
    "1. **Participants in companies with 1,000 or more employees.** This group captures the tools employed by large enterprises at the time of the survey.\n",
    "2. **Students.** This group captures the tools that new employees would be familiar with when they enter the workforce."
   ],
   "cell_type": "markdown",
   "metadata": {}
  },
  {
   "source": [
    "## Data Processing\n",
    "As we saw in our [notebook on exploratory data analysis](https://github.com/chrischow/2020-kaggle-ds-ml-survey/tree/master/Preliminary%20EDA), a majority of the survey participants (approx. 27%) were students or from small companies (< 1,000 employees)."
   ],
   "cell_type": "markdown",
   "metadata": {}
  },
  {
   "cell_type": "code",
   "execution_count": null,
   "metadata": {},
   "outputs": [],
   "source": []
  }
 ]
}